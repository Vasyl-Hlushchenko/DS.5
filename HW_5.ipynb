{
 "cells": [
  {
   "cell_type": "code",
   "execution_count": 49,
   "metadata": {},
   "outputs": [],
   "source": [
    "mypath = \"data\""
   ]
  },
  {
   "cell_type": "code",
   "execution_count": 50,
   "metadata": {},
   "outputs": [],
   "source": [
    "import numpy as np\n",
    "import pandas as pd\n",
    "import pickle\n",
    "\n",
    "from os import listdir\n",
    "from os.path import join\n",
    "from sklearn import model_selection, svm\n",
    "from sklearn.metrics import mean_absolute_error, mean_squared_error, accuracy_score, classification_report\n",
    "from sklearn.ensemble import RandomForestClassifier"
   ]
  },
  {
   "cell_type": "code",
   "execution_count": 51,
   "metadata": {},
   "outputs": [
    {
     "data": {
      "text/plain": [
       "['idle', 'running', 'stairs', 'walking']"
      ]
     },
     "execution_count": 51,
     "metadata": {},
     "output_type": "execute_result"
    }
   ],
   "source": [
    "activities = listdir(mypath)\n",
    "activities"
   ]
  },
  {
   "cell_type": "code",
   "execution_count": 52,
   "metadata": {},
   "outputs": [
    {
     "name": "stdout",
     "output_type": "stream",
     "text": [
      "idle: 1039\n",
      "running: 3408\n",
      "stairs: 165\n",
      "walking: 1850\n"
     ]
    }
   ],
   "source": [
    "for act in activities:\n",
    "    path = join(mypath, act)\n",
    "    frames = listdir(path)\n",
    "    print(f\"{act}: {len(frames)}\")"
   ]
  },
  {
   "cell_type": "code",
   "execution_count": 53,
   "metadata": {},
   "outputs": [
    {
     "data": {
      "text/html": [
       "<div>\n",
       "<style scoped>\n",
       "    .dataframe tbody tr th:only-of-type {\n",
       "        vertical-align: middle;\n",
       "    }\n",
       "\n",
       "    .dataframe tbody tr th {\n",
       "        vertical-align: top;\n",
       "    }\n",
       "\n",
       "    .dataframe thead th {\n",
       "        text-align: right;\n",
       "    }\n",
       "</style>\n",
       "<table border=\"1\" class=\"dataframe\">\n",
       "  <thead>\n",
       "    <tr style=\"text-align: right;\">\n",
       "      <th></th>\n",
       "      <th>accelerometer_X</th>\n",
       "      <th>accelerometer_Y</th>\n",
       "      <th>accelerometer_Z</th>\n",
       "    </tr>\n",
       "  </thead>\n",
       "  <tbody>\n",
       "    <tr>\n",
       "      <th>0</th>\n",
       "      <td>-2.269703</td>\n",
       "      <td>-2.782062</td>\n",
       "      <td>2.398990</td>\n",
       "    </tr>\n",
       "    <tr>\n",
       "      <th>1</th>\n",
       "      <td>1.479617</td>\n",
       "      <td>-9.251195</td>\n",
       "      <td>-0.857124</td>\n",
       "    </tr>\n",
       "    <tr>\n",
       "      <th>2</th>\n",
       "      <td>5.152323</td>\n",
       "      <td>-11.702858</td>\n",
       "      <td>-2.279280</td>\n",
       "    </tr>\n",
       "  </tbody>\n",
       "</table>\n",
       "</div>"
      ],
      "text/plain": [
       "   accelerometer_X  accelerometer_Y  accelerometer_Z\n",
       "0        -2.269703        -2.782062         2.398990\n",
       "1         1.479617        -9.251195        -0.857124\n",
       "2         5.152323       -11.702858        -2.279280"
      ]
     },
     "execution_count": 53,
     "metadata": {},
     "output_type": "execute_result"
    }
   ],
   "source": [
    "frms = listdir(join(mypath, \"stairs\"))\n",
    "frame = pd.read_csv(join(join(mypath, \"stairs\"), frms[2]))\n",
    "frame.head(3)"
   ]
  },
  {
   "attachments": {},
   "cell_type": "markdown",
   "metadata": {},
   "source": [
    "## Data preparating:"
   ]
  },
  {
   "cell_type": "code",
   "execution_count": 55,
   "metadata": {},
   "outputs": [],
   "source": [
    "def get_stat_features(frame):\n",
    "    features = np.array([])\n",
    "    features = np.concatenate((features, frame.skew(axis=0).values), axis=0)\n",
    "    features = np.concatenate((features, frame.kurt(axis=0).values), axis=0)\n",
    "    features = np.concatenate((features, frame.max(axis=0).values), axis=0)\n",
    "    features = np.concatenate((features, frame.min(axis=0).values), axis=0)\n",
    "    features = np.concatenate((features, frame.mean(axis=0).values), axis=0)\n",
    "    features = np.concatenate((features, frame.std(axis=0).values), axis=0)\n",
    "    features = np.concatenate((features, frame.var(axis=0).values), axis=0)\n",
    "    features = np.concatenate((features, frame.median(axis=0).values), axis=0)\n",
    "    features = np.concatenate((features, frame.idxmax(axis=0).values), axis=0)\n",
    "    features = np.concatenate((features, frame.idxmin(axis=0).values), axis=0)\n",
    "    correlations = frame.corr()\n",
    "    corr = np.array([correlations['accelerometer_X']['accelerometer_Y'], correlations['accelerometer_X']['accelerometer_Z'], correlations['accelerometer_Y']['accelerometer_Z']])\n",
    "    features = np.concatenate((features, corr), axis=0)\n",
    "\n",
    "    frame['mean_X'] = frame.mean(axis=0)['accelerometer_X']\n",
    "    frame['mean_Y'] = frame.mean(axis=0)['accelerometer_Y']\n",
    "    frame['mean_Z'] = frame.mean(axis=0)['accelerometer_Z']\n",
    "    \n",
    "    mae_X = mean_absolute_error(frame['accelerometer_X'], frame['mean_X'])\n",
    "    mae_Y = mean_absolute_error(frame['accelerometer_Y'], frame['mean_Y'])\n",
    "    mae_Z = mean_absolute_error(frame['accelerometer_Z'], frame['mean_Z'])\n",
    "    \n",
    "    rmse_x = np.sqrt(mean_squared_error(frame['accelerometer_X'], frame['mean_X']))\n",
    "    rmse_y = np.sqrt(mean_squared_error(frame['accelerometer_Y'], frame['mean_Y']))\n",
    "    rmse_z = np.sqrt(mean_squared_error(frame['accelerometer_Z'], frame['mean_Z']))\n",
    "\n",
    "    metrics = np.array([mae_X, mae_Y, mae_Z, rmse_x, rmse_y, rmse_z])\n",
    "    features = np.concatenate((features, metrics), axis=0)\n",
    "\n",
    "    return features"
   ]
  },
  {
   "cell_type": "code",
   "execution_count": 56,
   "metadata": {},
   "outputs": [
    {
     "data": {
      "text/plain": [
       "39"
      ]
     },
     "execution_count": 56,
     "metadata": {},
     "output_type": "execute_result"
    }
   ],
   "source": [
    "len(get_stat_features(frame))"
   ]
  },
  {
   "attachments": {},
   "cell_type": "markdown",
   "metadata": {},
   "source": [
    "## Discover calculation of features:"
   ]
  },
  {
   "cell_type": "code",
   "execution_count": 57,
   "metadata": {},
   "outputs": [],
   "source": [
    "new_frame = frame"
   ]
  },
  {
   "cell_type": "code",
   "execution_count": 58,
   "metadata": {},
   "outputs": [
    {
     "data": {
      "text/html": [
       "<div>\n",
       "<style scoped>\n",
       "    .dataframe tbody tr th:only-of-type {\n",
       "        vertical-align: middle;\n",
       "    }\n",
       "\n",
       "    .dataframe tbody tr th {\n",
       "        vertical-align: top;\n",
       "    }\n",
       "\n",
       "    .dataframe thead th {\n",
       "        text-align: right;\n",
       "    }\n",
       "</style>\n",
       "<table border=\"1\" class=\"dataframe\">\n",
       "  <thead>\n",
       "    <tr style=\"text-align: right;\">\n",
       "      <th></th>\n",
       "      <th>accelerometer_X</th>\n",
       "      <th>accelerometer_Y</th>\n",
       "      <th>accelerometer_Z</th>\n",
       "      <th>mean_X</th>\n",
       "      <th>mean_Y</th>\n",
       "      <th>mean_Z</th>\n",
       "    </tr>\n",
       "  </thead>\n",
       "  <tbody>\n",
       "    <tr>\n",
       "      <th>0</th>\n",
       "      <td>-2.269703</td>\n",
       "      <td>-2.782062</td>\n",
       "      <td>2.398990</td>\n",
       "      <td>0.864945</td>\n",
       "      <td>-9.36899</td>\n",
       "      <td>-3.801513</td>\n",
       "    </tr>\n",
       "    <tr>\n",
       "      <th>1</th>\n",
       "      <td>1.479617</td>\n",
       "      <td>-9.251195</td>\n",
       "      <td>-0.857124</td>\n",
       "      <td>0.864945</td>\n",
       "      <td>-9.36899</td>\n",
       "      <td>-3.801513</td>\n",
       "    </tr>\n",
       "    <tr>\n",
       "      <th>2</th>\n",
       "      <td>5.152323</td>\n",
       "      <td>-11.702858</td>\n",
       "      <td>-2.279280</td>\n",
       "      <td>0.864945</td>\n",
       "      <td>-9.36899</td>\n",
       "      <td>-3.801513</td>\n",
       "    </tr>\n",
       "  </tbody>\n",
       "</table>\n",
       "</div>"
      ],
      "text/plain": [
       "   accelerometer_X  accelerometer_Y  accelerometer_Z    mean_X   mean_Y   \n",
       "0        -2.269703        -2.782062         2.398990  0.864945 -9.36899  \\\n",
       "1         1.479617        -9.251195        -0.857124  0.864945 -9.36899   \n",
       "2         5.152323       -11.702858        -2.279280  0.864945 -9.36899   \n",
       "\n",
       "     mean_Z  \n",
       "0 -3.801513  \n",
       "1 -3.801513  \n",
       "2 -3.801513  "
      ]
     },
     "execution_count": 58,
     "metadata": {},
     "output_type": "execute_result"
    }
   ],
   "source": [
    "new_frame['mean_X'] = frame.mean(axis=0)['accelerometer_X']\n",
    "new_frame['mean_Y'] = frame.mean(axis=0)['accelerometer_Y']\n",
    "new_frame['mean_Z'] = frame.mean(axis=0)['accelerometer_Z']\n",
    "\n",
    "new_frame.head(3)"
   ]
  },
  {
   "cell_type": "code",
   "execution_count": 59,
   "metadata": {},
   "outputs": [
    {
     "data": {
      "text/plain": [
       "2.1644329377777782"
      ]
     },
     "execution_count": 59,
     "metadata": {},
     "output_type": "execute_result"
    }
   ],
   "source": [
    "mean_absolute_error(frame['accelerometer_X'], new_frame['mean_X'])"
   ]
  },
  {
   "cell_type": "code",
   "execution_count": 60,
   "metadata": {},
   "outputs": [
    {
     "data": {
      "text/plain": [
       "2.7998626036369325"
      ]
     },
     "execution_count": 60,
     "metadata": {},
     "output_type": "execute_result"
    }
   ],
   "source": [
    "np.sqrt(mean_squared_error(frame['accelerometer_X'], new_frame['mean_X']))"
   ]
  },
  {
   "attachments": {},
   "cell_type": "markdown",
   "metadata": {},
   "source": [
    "## Prepare one class:"
   ]
  },
  {
   "cell_type": "code",
   "execution_count": 61,
   "metadata": {},
   "outputs": [],
   "source": [
    "def class_data_stat_prepare(class_name, class_number):\n",
    "    path = join(mypath, class_name)\n",
    "    X = []\n",
    "    for item in listdir(path):\n",
    "        frame = pd.read_csv(join(path, item))\n",
    "        features = get_stat_features(frame)\n",
    "        X.append(features)\n",
    "\n",
    "    y = [class_number]*len(X)\n",
    "\n",
    "    X = np.array(X)\n",
    "    y = np.array(y)\n",
    "\n",
    "    return X, y"
   ]
  },
  {
   "attachments": {},
   "cell_type": "markdown",
   "metadata": {},
   "source": [
    "## Create DataSet:"
   ]
  },
  {
   "cell_type": "code",
   "execution_count": 62,
   "metadata": {},
   "outputs": [],
   "source": [
    "def create_dataset(class_prepare):\n",
    "    X_idle, y_idle = class_prepare('idle', 0)\n",
    "    X_walking, y_walking = class_prepare('walking', 1)\n",
    "    X_stairs, y_stairs = class_prepare('stairs', 2)\n",
    "    X_running, y_running = class_prepare('running', 3)\n",
    "\n",
    "    X = np.concatenate((X_idle, X_walking), axis=0)\n",
    "    X = np.concatenate((X, X_stairs), axis=0)\n",
    "    X = np.concatenate((X, X_running), axis=0)\n",
    "\n",
    "    Y = np.concatenate((y_idle, y_walking), axis=0)\n",
    "    Y = np.concatenate((Y, y_stairs), axis=0)\n",
    "    Y = np.concatenate((Y, y_running), axis=0)\n",
    "\n",
    "    return X, Y"
   ]
  },
  {
   "cell_type": "code",
   "execution_count": 63,
   "metadata": {},
   "outputs": [],
   "source": [
    "X, y = create_dataset(class_data_stat_prepare)"
   ]
  },
  {
   "cell_type": "code",
   "execution_count": 64,
   "metadata": {},
   "outputs": [],
   "source": [
    "def save_data(prefix, X, y):\n",
    "    with open(f'{prefix}_X.pickle', 'wb') as f:\n",
    "        pickle.dump(X, f)\n",
    "    with open(f'{prefix}_y.pickle', 'wb') as f:\n",
    "        pickle.dump(y, f)"
   ]
  },
  {
   "cell_type": "code",
   "execution_count": 65,
   "metadata": {},
   "outputs": [],
   "source": [
    "save_data('data', X, y)"
   ]
  },
  {
   "cell_type": "code",
   "execution_count": 66,
   "metadata": {},
   "outputs": [],
   "source": [
    "def load_data(prefix):\n",
    "    with open(f'{prefix}_X.pickle', 'rb') as f:\n",
    "        X = pickle.load(f)\n",
    "    with open(f'{prefix}_y.pickle', 'rb') as f:\n",
    "        y = pickle.load(f)\n",
    "    return X, y"
   ]
  },
  {
   "cell_type": "code",
   "execution_count": 67,
   "metadata": {},
   "outputs": [],
   "source": [
    "X, y = load_data('data')"
   ]
  },
  {
   "cell_type": "code",
   "execution_count": 68,
   "metadata": {},
   "outputs": [],
   "source": [
    "X_train, X_test, y_train, y_test = model_selection.train_test_split(X, y, train_size=0.3)"
   ]
  },
  {
   "attachments": {},
   "cell_type": "markdown",
   "metadata": {},
   "source": [
    "## SVM Classifier VS RandomForest Classifier:"
   ]
  },
  {
   "cell_type": "code",
   "execution_count": 69,
   "metadata": {},
   "outputs": [],
   "source": [
    "cls_ovo = svm.SVC(decision_function_shape='ovo', kernel='rbf', gamma=0.005, probability=True).fit(X_train, y_train)\n",
    "cls_ovr = svm.SVC(decision_function_shape='ovr', kernel='rbf', gamma=0.005, probability=True).fit(X_train, y_train)\n",
    "\n",
    "cls_forest = RandomForestClassifier().fit(X_train, y_train)\n",
    "\n",
    "\n",
    "# test_ovo = cls_ovo.score(X_test, y_test)\n",
    "# test_ovr = cls_ovr.score(X_test, y_test)\n",
    "\n",
    "# test_r_forest = cls_forest.score(X_test, y_test)"
   ]
  },
  {
   "cell_type": "code",
   "execution_count": 70,
   "metadata": {},
   "outputs": [],
   "source": [
    "svm_ovo_pred = cls_ovo.predict(X_test)\n",
    "svm_ovr_pred = cls_ovr.predict(X_test)\n",
    "\n",
    "forest_pred = cls_forest.predict(X_test)"
   ]
  },
  {
   "cell_type": "code",
   "execution_count": 71,
   "metadata": {},
   "outputs": [
    {
     "name": "stdout",
     "output_type": "stream",
     "text": [
      "accuracy SVM ovo:  0.9060565870910698\n",
      "accuracy SVM ovr:  0.9060565870910698\n",
      "accuracy RandomForest:  0.9971264367816092\n"
     ]
    }
   ],
   "source": [
    "svm_ovo_accuracy = accuracy_score(y_test, svm_ovo_pred)\n",
    "svm_ovr_accuracy = accuracy_score(y_test, svm_ovr_pred)\n",
    "\n",
    "forest_ovr_accuracy = accuracy_score(y_test, forest_pred)\n",
    "\n",
    "print(\"accuracy SVM ovo: \", svm_ovo_accuracy)\n",
    "print(\"accuracy SVM ovr: \", svm_ovr_accuracy)\n",
    "print(\"accuracy RandomForest: \", forest_ovr_accuracy)"
   ]
  },
  {
   "cell_type": "code",
   "execution_count": 72,
   "metadata": {},
   "outputs": [
    {
     "name": "stdout",
     "output_type": "stream",
     "text": [
      "SVM ovo report: \n",
      "              precision    recall  f1-score   support\n",
      "\n",
      "           0       1.00      0.88      0.94       710\n",
      "           1       0.98      0.79      0.87      1306\n",
      "           2       1.00      0.38      0.55       109\n",
      "           3       0.86      1.00      0.92      2399\n",
      "\n",
      "    accuracy                           0.91      4524\n",
      "   macro avg       0.96      0.76      0.82      4524\n",
      "weighted avg       0.92      0.91      0.90      4524\n",
      "\n",
      "SVM ovr report: \n",
      "              precision    recall  f1-score   support\n",
      "\n",
      "           0       1.00      0.88      0.94       710\n",
      "           1       0.98      0.79      0.87      1306\n",
      "           2       1.00      0.38      0.55       109\n",
      "           3       0.86      1.00      0.92      2399\n",
      "\n",
      "    accuracy                           0.91      4524\n",
      "   macro avg       0.96      0.76      0.82      4524\n",
      "weighted avg       0.92      0.91      0.90      4524\n",
      "\n",
      "RandomForest report: \n",
      "              precision    recall  f1-score   support\n",
      "\n",
      "           0       1.00      1.00      1.00       710\n",
      "           1       0.99      1.00      1.00      1306\n",
      "           2       0.95      0.93      0.94       109\n",
      "           3       1.00      1.00      1.00      2399\n",
      "\n",
      "    accuracy                           1.00      4524\n",
      "   macro avg       0.99      0.98      0.98      4524\n",
      "weighted avg       1.00      1.00      1.00      4524\n",
      "\n"
     ]
    }
   ],
   "source": [
    "svm_ovo_report = classification_report(y_test, svm_ovo_pred)\n",
    "print(\"SVM ovo report: \")\n",
    "print(svm_ovo_report)\n",
    "\n",
    "svm_ovr_report = classification_report(y_test, svm_ovr_pred)\n",
    "print(\"SVM ovr report: \")\n",
    "print(svm_ovr_report)\n",
    "\n",
    "forest_report = classification_report(y_test, forest_pred)\n",
    "print(\"RandomForest report: \")\n",
    "print(forest_report)"
   ]
  }
 ],
 "metadata": {
  "kernelspec": {
   "display_name": "Python 3",
   "language": "python",
   "name": "python3"
  },
  "language_info": {
   "codemirror_mode": {
    "name": "ipython",
    "version": 3
   },
   "file_extension": ".py",
   "mimetype": "text/x-python",
   "name": "python",
   "nbconvert_exporter": "python",
   "pygments_lexer": "ipython3",
   "version": "3.10.6"
  },
  "orig_nbformat": 4
 },
 "nbformat": 4,
 "nbformat_minor": 2
}
